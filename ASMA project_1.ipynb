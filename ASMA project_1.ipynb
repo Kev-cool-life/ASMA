{
 "cells": [
  {
   "cell_type": "code",
   "execution_count": 2,
   "id": "4d52ec0f",
   "metadata": {},
   "outputs": [],
   "source": [
    "def sdata(ticker, period):\n",
    "    import yfinance as yf\n",
    "    data=yf.download(ticker,period=period)\n",
    "    data.columns = [i.lower() for i in data.columns]\n",
    "    return data"
   ]
  },
  {
   "cell_type": "code",
   "execution_count": 3,
   "id": "571b013e",
   "metadata": {},
   "outputs": [],
   "source": [
    "def Bollinger(data):\n",
    "    import pandas as pd\n",
    "    from talib.abstract import BBANDS\n",
    "\n",
    "    #set Bollinger band\n",
    "    bb_time = 10\n",
    "    data = data.join(BBANDS(data, timeperiod = bb_time ))\n",
    "\n",
    "    #set position and trade record\n",
    "    position=0\n",
    "    trade=pd.DataFrame()\n",
    "\n",
    "    #run strategy and record buy-cover points\n",
    "    for i in range(bb_time+1,data.shape[0]-1):\n",
    "        c_time=data.index[i]\n",
    "        c_close=data.loc[c_time,'close']\n",
    "        c_upper=data.loc[c_time,'upperband']\n",
    "        c_lower=data.loc[c_time,'lowerband']\n",
    "        n_time=data.index[i+1]\n",
    "        n_open=data.loc[n_time,'open']\n",
    "        if position ==0  :\n",
    "            #enter buy position if stock price > upper band\n",
    "            if c_close > c_upper :\n",
    "                position = 1  \n",
    "                order_time=n_time\n",
    "                order_price=n_open\n",
    "                data.loc[n_time,'buy_order']=n_open\n",
    "        #cover the position if the stock price falls below lower band\n",
    "        elif position ==1 and c_close < c_lower :\n",
    "            position = 0\n",
    "            cover_time=n_time\n",
    "            cover_price=n_open\n",
    "            data.loc[n_time,'buy_cover']=n_open\n",
    "            trade=trade.append(pd.Series(['Buy', order_time, order_price, cover_time, cover_price]),ignore_index=True)\n",
    "    return [data, trade]"
   ]
  },
  {
   "cell_type": "code",
   "execution_count": 4,
   "id": "9528feb0",
   "metadata": {},
   "outputs": [],
   "source": [
    "def ChartOrder(data,  addp = []):\n",
    "    import mplfinance as mpf\n",
    "    mcolor = mpf.make_marketcolors(up='r',down ='g', inherit = True)\n",
    "    mstyle = mpf.make_mpf_style(base_mpf_style = 'starsandstripes', marketcolors = mcolor)\n",
    "    \n",
    "    if 'buy_order' in data.columns:\n",
    "        addp.append(mpf.make_addplot(data['buy_order'], type= 'scatter', color = 'blue', marker = '^', markersize = 50))\n",
    "    if 'buy_cover' in data.columns:\n",
    "        addp.append(mpf.make_addplot(data['buy_cover'], type= 'scatter', color = 'orange', marker = 'v', markersize = 50))\n",
    "\n",
    "    mpf.plot(data,type = 'candle', style = mstyle, addplot = addp)"
   ]
  },
  {
   "cell_type": "code",
   "execution_count": 5,
   "id": "c3624f5a",
   "metadata": {},
   "outputs": [],
   "source": [
    "def performance(trade):\n",
    "    \n",
    "    trade_num = trade.shape[0]\n",
    "    \n",
    "    #Calculate win/loss trades\n",
    "    earn_trade = trade[(trade[4] - trade[2])>0]\n",
    "    loss_trade = trade[(trade[4] - trade[2])<0]\n",
    "\n",
    "    #Calculate average return\n",
    "    avg_earn = ((earn_trade[4] - earn_trade[2])/earn_trade[2]).mean()*100\n",
    "    avg_loss = ((loss_trade[4] - loss_trade[2])/loss_trade[2]).mean()*100\n",
    "\n",
    "    #Calculate win ratio\n",
    "    win_ratio = round(earn_trade.shape[0]/trade_num, 2)\n",
    "    loss_ratio = 1 - win_ratio\n",
    "\n",
    "    #Calculate Earn-loss ratio\n",
    "    earn_loss = abs(avg_earn/avg_loss)\n",
    "\n",
    "    #Expectation\n",
    "    expectation = (win_ratio * earn_loss) - loss_ratio \n",
    "\n",
    "    print(\n",
    "    'Executions:', trade_num,\n",
    "    '\\n Average Return(%):', round(((trade[4]-trade[2])/trade[2]).mean()*100,4),\n",
    "    '\\n Win rate(%):', round(earn_trade.shape[0]/trade_num, 2),\n",
    "    '\\n Profit-loss Ratio:', round(earn_loss,2),\n",
    "    '\\n Expectation:', round(expectation,2) \n",
    "    )"
   ]
  },
  {
   "cell_type": "code",
   "execution_count": null,
   "id": "0b542965",
   "metadata": {},
   "outputs": [],
   "source": [
    "import mplfinance as mpf\n",
    "stock = sdata('MSFT', '3y')\n",
    "[stock, trade] = Bollinger(stock)\n",
    "\n",
    "#set up Plot with Bollinger bands\n",
    "addp=[]\n",
    "addp.append(mpf.make_addplot(stock['upperband']))\n",
    "addp.append(mpf.make_addplot(stock['middleband']))\n",
    "addp.append(mpf.make_addplot(stock['lowerband']))\n",
    "\n",
    "#add in the trade execution indicators\n",
    "ChartOrder(stock,addp)\n",
    "\n",
    "#Performance Report\n",
    "performance(trade)"
   ]
  },
  {
   "cell_type": "code",
   "execution_count": null,
   "id": "36c9f47c",
   "metadata": {},
   "outputs": [],
   "source": [
    "#point of improvement\n",
    "'''\n",
    "1. allow more tickers - mimick the composition of mutual funds or ETFs\n",
    "2. allow more flexible time frame\n",
    "3. Combine stock portfolio picking with market entering strategy - no idea \n",
    "'''\n"
   ]
  },
  {
   "cell_type": "code",
   "execution_count": null,
   "id": "4f263c90",
   "metadata": {},
   "outputs": [],
   "source": []
  },
  {
   "cell_type": "code",
   "execution_count": null,
   "id": "39bf36f0",
   "metadata": {},
   "outputs": [],
   "source": []
  }
 ],
 "metadata": {
  "kernelspec": {
   "display_name": "Python 3 (ipykernel)",
   "language": "python",
   "name": "python3"
  },
  "language_info": {
   "codemirror_mode": {
    "name": "ipython",
    "version": 3
   },
   "file_extension": ".py",
   "mimetype": "text/x-python",
   "name": "python",
   "nbconvert_exporter": "python",
   "pygments_lexer": "ipython3",
   "version": "3.9.7"
  }
 },
 "nbformat": 4,
 "nbformat_minor": 5
}
